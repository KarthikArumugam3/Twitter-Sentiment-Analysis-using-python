{
 "cells": [
  {
   "cell_type": "code",
   "execution_count": 2,
   "metadata": {},
   "outputs": [],
   "source": [
    "import re\n",
    "import tweepy\n",
    "from tweepy import OAuthHandler\n",
    "from textblob import TextBlob\n",
    "from matplotlib import pyplot as plt"
   ]
  },
  {
   "cell_type": "code",
   "execution_count": 3,
   "metadata": {},
   "outputs": [],
   "source": [
    "consumer_key = 'wPB1Rsclt7YtKcPKFjWdbyeRN'\n",
    "consumer_secret = 'tsm67CihfQ65FMNqGNVkYmODLf4JlKW0LptnnzsRKtYmqZzoAd'\n",
    "access_token = '1096098583214993408-s3Mz8xPp8FMKDS3LVGrjTPYusx996V'\n",
    "access_token_secret = '8goJjN6EbMDr2kagUcq4cv0f6gBd2fF1hSjtynyXqDhJJ'\n",
    "\n",
    "try:\n",
    "    auth = OAuthHandler(consumer_key, consumer_secret)\n",
    "    auth.set_access_token(access_token, access_token_secret)\n",
    "    api = tweepy.API(auth)\n",
    "except:\n",
    "    print(\"Error: Authentication Failed\")"
   ]
  },
  {
   "cell_type": "code",
   "execution_count": null,
   "metadata": {},
   "outputs": [],
   "source": [
    "API Key :- wPB1Rsclt7YtKcPKFjWdbyeRN\n",
    "API secret key :- tsm67CihfQ65FMNqGNVkYmODLf4JlKW0LptnnzsRKtYmqZzoAd\n",
    "Bearer Token :- AAAAAAAAAAAAAAAAAAAAAI4bLQEAAAAArHsIFQ59Po%2FQwrsoSHu%2BVQ8FB3A%3DwtDUfSk7LulolMeJzdEn9owsKPmqHZraz96iez56Z7gms5FRif"
   ]
  },
  {
   "cell_type": "code",
   "execution_count": 4,
   "metadata": {},
   "outputs": [
    {
     "name": "stdout",
     "output_type": "stream",
     "text": [
      "------------------------------\n"
     ]
    }
   ],
   "source": [
    "print('-'*30)"
   ]
  },
  {
   "cell_type": "code",
   "execution_count": null,
   "metadata": {},
   "outputs": [],
   "source": []
  }
 ],
 "metadata": {
  "kernelspec": {
   "display_name": "Python 3.8.3 32-bit",
   "language": "python",
   "name": "python38332bitd4d48570956f40eb8b8629c4d8fa132b"
  },
  "language_info": {
   "codemirror_mode": {
    "name": "ipython",
    "version": 3
   },
   "file_extension": ".py",
   "mimetype": "text/x-python",
   "name": "python",
   "nbconvert_exporter": "python",
   "pygments_lexer": "ipython3",
   "version": "3.8.3"
  }
 },
 "nbformat": 4,
 "nbformat_minor": 4
}
